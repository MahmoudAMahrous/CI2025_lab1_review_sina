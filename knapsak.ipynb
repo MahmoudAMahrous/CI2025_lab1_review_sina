{
 "cells": [
  {
   "cell_type": "markdown",
   "id": "b7264ab2",
   "metadata": {},
   "source": [
    "# 01 Multidimensional multi Knapsack Problem\n",
    "\n",
    "## Problem Overview\n",
    "\n",
    "The multidimensional multi knapsack problem (MMKP) is a generalization of the classic knapsack problem. In this problem, we have multiple knapsacks, each with its own capacity constraints across multiple dimensions (e.g., weight, volume, etc.). We also have a set of items, each with a value and a set of weights corresponding to each dimension. The goal is to maximize the total value of the items placed in the knapsacks without exceeding the capacity constraints of any knapsack in any dimension. \n",
    "\n",
    "### Attributes\n",
    "- The `CONSTRAINTS` array define for each knapsack, what is the maximum weight and what volume it can carry.\n",
    "- The `WEIGHTS` array defines for each item, what are the dimensions of the item (weight, volume, ...).\n",
    "- The `VALUES` array defines for each item, what is its value.\n",
    "\n",
    "### Example Output\n",
    "\n",
    "with 3 kapsacks and 10 items with 2 dimensions (weight and volume):\n",
    "\n",
    "```bash\n",
    "(array([[287, 117],\n",
    "        [319, 114],\n",
    "        [204, 244]]),\n",
    " array([[52, 69],\n",
    "        [13, 86],\n",
    "        [89, 76],\n",
    "        [54, 52],\n",
    "        [25, 89],\n",
    "        [ 5, 87],\n",
    "        [50, 19],\n",
    "        [97, 60],\n",
    "        [85, 27],\n",
    "        [97, 79]]),\n",
    " array([64, 73, 52, 71,  0, 95,  0, 34, 31, 21]))\n",
    "```\n",
    "\n",
    "> Note: It is need less to say that the items are the indecises of the arrays like 0, 1, 2, ..., n-1 in `VALUES` and `WEIGHTS`. **and one items can be in only one knapsack.**"
   ]
  },
  {
   "cell_type": "code",
   "execution_count": 6,
   "id": "6182bb93",
   "metadata": {},
   "outputs": [],
   "source": [
    "import numpy as np\n",
    "from tqdm import tqdm\n",
    "from collections import deque"
   ]
  },
  {
   "cell_type": "code",
   "execution_count": 7,
   "id": "1340d27d",
   "metadata": {},
   "outputs": [],
   "source": [
    "# Problem 1 \n",
    "rng = np.random.default_rng(seed=42)\n",
    "NUM_KNAPSACKS = 3\n",
    "NUM_ITEMS = 10\n",
    "NUM_DIMENSIONS = 2\n",
    "VALUES = rng.integers(0, 100, size=NUM_ITEMS)\n",
    "WEIGHTS = rng.integers(0, 100, size=(NUM_ITEMS, NUM_DIMENSIONS))\n",
    "CONSTRAINTS = rng.integers(\n",
    "    0, 100 * NUM_ITEMS // NUM_KNAPSACKS, size=(NUM_KNAPSACKS, NUM_DIMENSIONS)\n",
    ")\n",
    "# inital solution with empty knapsacks\n",
    "solution = np.array(\n",
    "    [[False for _ in range(NUM_ITEMS)] for _ in range(NUM_KNAPSACKS)] , dtype=np.bool\n",
    ")"
   ]
  },
  {
   "cell_type": "code",
   "execution_count": 8,
   "id": "ad35b710",
   "metadata": {},
   "outputs": [],
   "source": [
    "def value(solution : np.ndarray) -> int:\n",
    "    return (VALUES * np.any(solution, axis=0)).sum()\n",
    "\n",
    "def valid(solution : np.ndarray) -> bool:\n",
    "    return np.all(WEIGHTS.T@solution.T <= CONSTRAINTS.T)\n",
    "\n",
    "def get_items_left(solution: np.ndarray):\n",
    "    '''\n",
    "    Since each item can only be in one knapsack, we just check indices of current solution for all knapsacks are empty, if so, that item is left outside of knapsacks.\n",
    "    '''\n",
    "    items_in_knapsacks = np.any(solution, axis=0)\n",
    "    return np.where(~items_in_knapsacks)[0]"
   ]
  },
  {
   "cell_type": "code",
   "execution_count": 22,
   "id": "10df1fa0",
   "metadata": {},
   "outputs": [],
   "source": [
    "def tweak(solution : np.ndarray) -> np.ndarray:\n",
    "    '''\n",
    "    tweak the solution by randomly assigning one **unassigned item** to a random knapsack.\n",
    "\n",
    "    By checking unassigned items, we ensure that we do not put an item in two knapsacks.\n",
    "    '''\n",
    "    new_solution = solution.copy()\n",
    "    # what are the items left to be assigned\n",
    "    items_left = get_items_left(new_solution)\n",
    "    if len(items_left) == 0:\n",
    "        return new_solution\n",
    "    # randomly pick one items in range [0, NUM_ITEMS)\n",
    "    item = rng.choice(items_left) # this is the index in KANAPSACK\n",
    "    # randomly pick one knapsack in range [0, NUM_KNAPSACKS)\n",
    "    knapsack = rng.integers(0, NUM_KNAPSACKS)\n",
    "    # assign the item to the knapsack\n",
    "    new_solution[knapsack, item] = True\n",
    "    \n",
    "    return new_solution\n",
    "\n",
    "def sa_tweak(solution : np.ndarray, strength : float = 0.5) -> np.ndarray:\n",
    "    '''\n",
    "    Simulated Annealing tweak\n",
    "    '''\n",
    "    \n",
    "    new_solution = solution.copy()\n",
    "    # what are the items left to be assigned\n",
    "    items_left = get_items_left(new_solution)\n",
    "    if len(items_left) == 0:\n",
    "        return new_solution\n",
    "    \n",
    "    again = True\n",
    "    while again:\n",
    "\n",
    "        item = rng.choice(items_left) # this is the index in KANAPSACK\n",
    "        knapsack = rng.integers(0, NUM_KNAPSACKS)\n",
    "        new_solution[knapsack, item] = True\n",
    "        again = rng.random() < strength\n",
    "\n",
    "    return new_solution"
   ]
  },
  {
   "cell_type": "code",
   "execution_count": 14,
   "id": "681b1792",
   "metadata": {},
   "outputs": [
    {
     "name": "stdout",
     "output_type": "stream",
     "text": [
      "Items left: [0 1 2 4 5 6 7 8 9] Count: 9\n",
      "Value: 43\n",
      "Valid: True\n",
      "Items left: [0 1 2 4 5 7 8 9] Count: 8\n",
      "Value: 51\n",
      "Valid: False\n",
      "Items left: [0 1 2 4 5 7 8] Count: 7\n",
      "Value: 60\n",
      "Valid: False\n",
      "Items left: [0 2 4 5 7 8] Count: 6\n",
      "Value: 137\n",
      "Valid: False\n",
      "Items left: [0 2 4 7 8] Count: 5\n",
      "Value: 222\n",
      "Valid: False\n"
     ]
    }
   ],
   "source": [
    "def test_tweak(solution):\n",
    "    new_solution = solution.copy()\n",
    "    for _ in range(5):\n",
    "        new_solution = tweak(new_solution)\n",
    "        items_left = get_items_left(new_solution)\n",
    "\n",
    "        print(\"Items left:\", items_left, \"Count:\", len(items_left))\n",
    "        print(\"Value:\", value(new_solution))\n",
    "        print(\"Valid:\", valid(new_solution))\n",
    "        # print(new_solution)\n",
    "test_tweak(solution)"
   ]
  },
  {
   "cell_type": "code",
   "execution_count": 23,
   "id": "bdc2dda8",
   "metadata": {},
   "outputs": [],
   "source": [
    "from collections import deque\n",
    "\n",
    "def hill_climbing(solution: np.ndarray, max_iter=1000, max_messages=5, print_every=100):\n",
    "    best_solution = solution.copy()\n",
    "    best_value = value(best_solution)\n",
    "    messages = deque(maxlen=max_messages)\n",
    "    \n",
    "    for iteration in tqdm(range(max_iter), desc=\"Hill Climbing\"):\n",
    "        new_solution = tweak(best_solution)\n",
    "\n",
    "        items_left = len(get_items_left(new_solution))\n",
    "        \n",
    "        if valid(new_solution):\n",
    "            new_value = value(new_solution)\n",
    "            if new_value > best_value:\n",
    "                best_value = new_value\n",
    "                best_solution = new_solution\n",
    "                messages.append(f\"Iter {iteration}: value = {best_value}, item left = {items_left}\")\n",
    "            if new_value == best_value:\n",
    "                best_solution = new_solution\n",
    "\n",
    "        if iteration % print_every == 0 and messages:\n",
    "            tqdm.write(\"\\n\".join(messages))\n",
    "            messages.clear()\n",
    "\n",
    "        if items_left == 0:\n",
    "            tqdm.write(\"All items assigned!\")\n",
    "            break\n",
    "\n",
    "    # tqdm.write(f\"Iter {iteration + 1}: Best value = {best_value}, items left = {len(get_items_left(best_solution))}\")\n",
    "    return best_solution, best_value, items_left"
   ]
  },
  {
   "cell_type": "markdown",
   "id": "0c78acb3",
   "metadata": {},
   "source": [
    "# Probem 1 Configuration"
   ]
  },
  {
   "cell_type": "code",
   "execution_count": 24,
   "id": "4dee8cf1",
   "metadata": {},
   "outputs": [
    {
     "name": "stderr",
     "output_type": "stream",
     "text": [
      "Hill Climbing:   0%|          | 26/10000 [00:00<00:03, 2507.29it/s]"
     ]
    },
    {
     "name": "stdout",
     "output_type": "stream",
     "text": [
      "Iter 0: value = 83, item left = 19\n",
      "All items assigned!\n",
      "----------------------------------------------------------------------------------------------------\n",
      "Best value found for problem 1: 1022\n"
     ]
    },
    {
     "name": "stderr",
     "output_type": "stream",
     "text": [
      "\n"
     ]
    }
   ],
   "source": [
    "# Problem 1 \n",
    "rng = np.random.default_rng(seed=42)\n",
    "NUM_KNAPSACKS = 3\n",
    "NUM_ITEMS = 20\n",
    "NUM_DIMENSIONS = 2\n",
    "VALUES = rng.integers(0, 100, size=NUM_ITEMS)\n",
    "WEIGHTS = rng.integers(0, 100, size=(NUM_ITEMS, NUM_DIMENSIONS))\n",
    "CONSTRAINTS = rng.integers(\n",
    "    0, 100 * NUM_ITEMS // NUM_KNAPSACKS, size=(NUM_KNAPSACKS, NUM_DIMENSIONS)\n",
    ")\n",
    "# inital solution with empty knapsacks\n",
    "solution = np.array(\n",
    "    [[False for _ in range(NUM_ITEMS)] for _ in range(NUM_KNAPSACKS)] , dtype=np.bool\n",
    ")\n",
    "\n",
    "best_solution, best_value, items_left_num = hill_climbing(solution, max_iter=10000)\n",
    "print(100 * \"-\")\n",
    "print(\"Best value found for problem 1:\", best_value)\n",
    "if items_left_num != 0:\n",
    "    print(\"But there are still\", items_left_num, \"items left unassigned.\")"
   ]
  },
  {
   "cell_type": "markdown",
   "id": "ef6406a6",
   "metadata": {},
   "source": [
    "**The Simulation Annealing hill climbing algorithm below is defined for next two problems:**"
   ]
  },
  {
   "cell_type": "code",
   "execution_count": 25,
   "id": "8831f405",
   "metadata": {},
   "outputs": [],
   "source": [
    "def sa_hill_climbing(solution: np.ndarray, max_iter=1000, max_messages=5,\n",
    "                    print_every=100, initial_temp=1.0, cooling_rate=0.99):\n",
    "    best_solution = solution.copy()\n",
    "    best_value = value(best_solution)\n",
    "    temp = initial_temp\n",
    "    messages = deque(maxlen=max_messages)\n",
    "\n",
    "    for iteration in tqdm(range(max_iter), desc=\"Simulated Annealing Hill Climbing\"):\n",
    "        new_solution = sa_tweak(best_solution, strength=0.8)\n",
    "        items_left = len(get_items_left(new_solution))\n",
    "\n",
    "        if valid(new_solution):\n",
    "            new_value = value(new_solution)\n",
    "            if new_value > best_value:\n",
    "                best_value = new_value\n",
    "                best_solution = new_solution\n",
    "                messages.append(f\"Iter {iteration}: value = {best_value}, item left = {items_left}\")\n",
    "            elif new_value == best_value: # moving is better than staying ! \n",
    "                best_solution = new_solution\n",
    "            else: # SA \n",
    "                # accept with a probability of exp((new_value - best_value) / temp)\n",
    "                prob = np.exp((new_value - best_value) / temp)\n",
    "                if rng.random() < prob:\n",
    "                    best_solution = new_solution\n",
    "\n",
    "        temp *= cooling_rate\n",
    "\n",
    "        if iteration % print_every == 0 and messages:\n",
    "            tqdm.write(\"\\n\".join(messages))\n",
    "            messages.clear()\n",
    "\n",
    "        if items_left == 0:\n",
    "            tqdm.write(\"All items assigned!\")\n",
    "            break\n",
    "\n",
    "    return best_solution, best_value, items_left"
   ]
  },
  {
   "cell_type": "markdown",
   "id": "9b66789b",
   "metadata": {},
   "source": [
    "# Problem 2 Configuration"
   ]
  },
  {
   "cell_type": "code",
   "execution_count": null,
   "id": "2fc6f7bc",
   "metadata": {},
   "outputs": [
    {
     "name": "stderr",
     "output_type": "stream",
     "text": [
      "Simulated Annealing Hill Climbing:   2%|▏         | 1614/100000 [00:00<00:12, 8095.66it/s]"
     ]
    },
    {
     "name": "stdout",
     "output_type": "stream",
     "text": [
      "Iter 0: value = 3554, item left = 93\n",
      "Iter 57: value = 20004, item left = 60\n",
      "Iter 61: value = 20442, item left = 59\n",
      "Iter 68: value = 21237, item left = 58\n",
      "Iter 75: value = 21937, item left = 57\n",
      "Iter 83: value = 22776, item left = 56\n",
      "Iter 115: value = 23835, item left = 54\n",
      "Iter 150: value = 24310, item left = 53\n",
      "Iter 234: value = 24712, item left = 52\n",
      "Iter 257: value = 24806, item left = 51\n",
      "Iter 273: value = 25704, item left = 50\n",
      "Iter 277: value = 26067, item left = 49\n",
      "Iter 352: value = 26908, item left = 48\n",
      "Iter 372: value = 27097, item left = 47\n",
      "Iter 530: value = 27566, item left = 46\n",
      "Iter 626: value = 27793, item left = 45\n",
      "Iter 660: value = 28243, item left = 44\n",
      "Iter 965: value = 29183, item left = 43\n",
      "Iter 1035: value = 29729, item left = 42\n",
      "Iter 1432: value = 29814, item left = 41\n"
     ]
    },
    {
     "name": "stderr",
     "output_type": "stream",
     "text": [
      "Simulated Annealing Hill Climbing:  17%|█▋        | 16799/100000 [00:01<00:07, 10655.80it/s]"
     ]
    },
    {
     "name": "stdout",
     "output_type": "stream",
     "text": [
      "Iter 15145: value = 30168, item left = 40\n"
     ]
    },
    {
     "name": "stderr",
     "output_type": "stream",
     "text": [
      "Simulated Annealing Hill Climbing: 100%|██████████| 100000/100000 [00:09<00:00, 10675.66it/s]"
     ]
    },
    {
     "name": "stdout",
     "output_type": "stream",
     "text": [
      "----------------------------------------------------------------------------------------------------\n",
      "Best value found for problem 2: 30168\n",
      "But there are still 27 items left unassigned.\n"
     ]
    },
    {
     "name": "stderr",
     "output_type": "stream",
     "text": [
      "\n"
     ]
    }
   ],
   "source": [
    "# Problem 2:\n",
    "rng = np.random.default_rng(seed=42)\n",
    "NUM_KNAPSACKS = 10\n",
    "NUM_ITEMS = 100\n",
    "NUM_DIMENSIONS = 10\n",
    "VALUES = rng.integers(0, 1000, size=NUM_ITEMS)\n",
    "WEIGHTS = rng.integers(0, 1000, size=(NUM_ITEMS, NUM_DIMENSIONS))\n",
    "CONSTRAINTS = rng.integers(\n",
    "    1000 * 2, 1000 * NUM_ITEMS // NUM_KNAPSACKS, size=(NUM_KNAPSACKS, NUM_DIMENSIONS)\n",
    ")\n",
    "# inital solution with empty knapsacks\n",
    "solution = np.array(\n",
    "    [[False for _ in range(NUM_ITEMS)] for _ in range(NUM_KNAPSACKS)] , dtype=np.bool\n",
    ")\n",
    "\n",
    "best_solution, best_value, items_left_num = sa_hill_climbing(solution, max_iter=100000,\n",
    "                                                             initial_temp=10.0, cooling_rate=0.99)\n",
    "print(100 * \"-\")\n",
    "print(\"Best value found for problem 2:\", best_value)\n",
    "if items_left_num != 0:\n",
    "    print(\"But there are still\", items_left_num, \"items left unassigned.\")"
   ]
  },
  {
   "cell_type": "markdown",
   "id": "3a3b2a1f",
   "metadata": {},
   "source": [
    "# Problem 3 "
   ]
  },
  {
   "cell_type": "code",
   "execution_count": 33,
   "id": "4c7c2e09",
   "metadata": {},
   "outputs": [
    {
     "name": "stderr",
     "output_type": "stream",
     "text": [
      "Simulated Annealing Hill Climbing:   0%|          | 1/1000 [00:00<03:34,  4.65it/s]"
     ]
    },
    {
     "name": "stdout",
     "output_type": "stream",
     "text": [
      "Iter 0: value = 1709, item left = 4996\n"
     ]
    },
    {
     "name": "stderr",
     "output_type": "stream",
     "text": [
      "Simulated Annealing Hill Climbing:  10%|█         | 101/1000 [00:20<03:07,  4.79it/s]"
     ]
    },
    {
     "name": "stdout",
     "output_type": "stream",
     "text": [
      "Iter 96: value = 218049, item left = 4540\n",
      "Iter 97: value = 221350, item left = 4535\n",
      "Iter 98: value = 222695, item left = 4533\n",
      "Iter 99: value = 223520, item left = 4530\n",
      "Iter 100: value = 224024, item left = 4529\n"
     ]
    },
    {
     "name": "stderr",
     "output_type": "stream",
     "text": [
      "Simulated Annealing Hill Climbing:  20%|██        | 201/1000 [00:41<02:56,  4.52it/s]"
     ]
    },
    {
     "name": "stdout",
     "output_type": "stream",
     "text": [
      "Iter 196: value = 470055, item left = 4051\n",
      "Iter 197: value = 473371, item left = 4044\n",
      "Iter 198: value = 474695, item left = 4042\n",
      "Iter 199: value = 476260, item left = 4039\n",
      "Iter 200: value = 477097, item left = 4038\n"
     ]
    },
    {
     "name": "stderr",
     "output_type": "stream",
     "text": [
      "Simulated Annealing Hill Climbing:  30%|███       | 301/1000 [01:02<02:27,  4.75it/s]"
     ]
    },
    {
     "name": "stdout",
     "output_type": "stream",
     "text": [
      "Iter 295: value = 683524, item left = 3619\n",
      "Iter 297: value = 690857, item left = 3604\n",
      "Iter 298: value = 698104, item left = 3591\n",
      "Iter 299: value = 699062, item left = 3588\n",
      "Iter 300: value = 703462, item left = 3580\n"
     ]
    },
    {
     "name": "stderr",
     "output_type": "stream",
     "text": [
      "Simulated Annealing Hill Climbing:  40%|████      | 401/1000 [01:23<02:06,  4.72it/s]"
     ]
    },
    {
     "name": "stdout",
     "output_type": "stream",
     "text": [
      "Iter 393: value = 777384, item left = 3429\n",
      "Iter 395: value = 778112, item left = 3428\n",
      "Iter 396: value = 780015, item left = 3424\n",
      "Iter 399: value = 781041, item left = 3421\n",
      "Iter 400: value = 782865, item left = 3418\n"
     ]
    },
    {
     "name": "stderr",
     "output_type": "stream",
     "text": [
      "Simulated Annealing Hill Climbing:  50%|█████     | 501/1000 [01:44<01:45,  4.73it/s]"
     ]
    },
    {
     "name": "stdout",
     "output_type": "stream",
     "text": [
      "Iter 489: value = 834822, item left = 3318\n",
      "Iter 492: value = 835511, item left = 3317\n",
      "Iter 493: value = 836773, item left = 3314\n",
      "Iter 494: value = 836979, item left = 3313\n",
      "Iter 498: value = 837683, item left = 3312\n"
     ]
    },
    {
     "name": "stderr",
     "output_type": "stream",
     "text": [
      "Simulated Annealing Hill Climbing:  60%|██████    | 601/1000 [02:05<01:22,  4.84it/s]"
     ]
    },
    {
     "name": "stdout",
     "output_type": "stream",
     "text": [
      "Iter 590: value = 870264, item left = 3249\n",
      "Iter 591: value = 872016, item left = 3246\n",
      "Iter 596: value = 873413, item left = 3243\n",
      "Iter 599: value = 874157, item left = 3240\n",
      "Iter 600: value = 874187, item left = 3239\n"
     ]
    },
    {
     "name": "stderr",
     "output_type": "stream",
     "text": [
      "Simulated Annealing Hill Climbing:  70%|███████   | 701/1000 [02:26<01:02,  4.78it/s]"
     ]
    },
    {
     "name": "stdout",
     "output_type": "stream",
     "text": [
      "Iter 675: value = 888779, item left = 3209\n",
      "Iter 683: value = 889578, item left = 3208\n",
      "Iter 694: value = 890487, item left = 3207\n",
      "Iter 695: value = 891094, item left = 3205\n",
      "Iter 697: value = 894062, item left = 3201\n"
     ]
    },
    {
     "name": "stderr",
     "output_type": "stream",
     "text": [
      "Simulated Annealing Hill Climbing:  80%|████████  | 801/1000 [02:47<00:42,  4.68it/s]"
     ]
    },
    {
     "name": "stdout",
     "output_type": "stream",
     "text": [
      "Iter 780: value = 908960, item left = 3171\n",
      "Iter 781: value = 912635, item left = 3165\n",
      "Iter 787: value = 913133, item left = 3163\n",
      "Iter 793: value = 914419, item left = 3161\n",
      "Iter 795: value = 915281, item left = 3159\n"
     ]
    },
    {
     "name": "stderr",
     "output_type": "stream",
     "text": [
      "Simulated Annealing Hill Climbing:  90%|█████████ | 901/1000 [03:08<00:22,  4.47it/s]"
     ]
    },
    {
     "name": "stdout",
     "output_type": "stream",
     "text": [
      "Iter 879: value = 930964, item left = 3133\n",
      "Iter 883: value = 931126, item left = 3132\n",
      "Iter 889: value = 931567, item left = 3131\n",
      "Iter 894: value = 932186, item left = 3130\n",
      "Iter 897: value = 932276, item left = 3129\n"
     ]
    },
    {
     "name": "stderr",
     "output_type": "stream",
     "text": [
      "Simulated Annealing Hill Climbing: 100%|██████████| 1000/1000 [03:28<00:00,  4.79it/s]"
     ]
    },
    {
     "name": "stdout",
     "output_type": "stream",
     "text": [
      "----------------------------------------------------------------------------------------------------\n",
      "Best value found for problem 3: 941067\n",
      "But there are still 3108 items left unassigned.\n"
     ]
    },
    {
     "name": "stderr",
     "output_type": "stream",
     "text": [
      "\n"
     ]
    }
   ],
   "source": [
    "# Problem 3:\n",
    "rng = np.random.default_rng(seed=42)\n",
    "NUM_KNAPSACKS = 100\n",
    "NUM_ITEMS = 5000\n",
    "NUM_DIMENSIONS = 100\n",
    "VALUES = rng.integers(0, 1000, size=NUM_ITEMS)\n",
    "WEIGHTS = rng.integers(0, 1000, size=(NUM_ITEMS, NUM_DIMENSIONS))\n",
    "CONSTRAINTS = rng.integers(\n",
    "    1000 * 10, 1000 * 2 * NUM_ITEMS // NUM_KNAPSACKS, size=(NUM_KNAPSACKS, NUM_DIMENSIONS)\n",
    ")\n",
    "# inital solution with empty knapsacks\n",
    "solution = np.array(\n",
    "    [[False for _ in range(NUM_ITEMS)] for _ in range(NUM_KNAPSACKS)] , dtype=np.bool\n",
    ")\n",
    "\n",
    "best_solution, best_value, items_left_num = sa_hill_climbing(solution, max_iter=1000,\n",
    "                                                             initial_temp=10.0, cooling_rate=0.8)\n",
    "print(100 * \"-\")\n",
    "print(\"Best value found for problem 3:\", best_value)\n",
    "if items_left_num != 0:\n",
    "    print(\"But there are still\", items_left_num, \"items left unassigned.\")"
   ]
  },
  {
   "cell_type": "code",
   "execution_count": null,
   "id": "53bdbe70",
   "metadata": {},
   "outputs": [],
   "source": []
  }
 ],
 "metadata": {
  "kernelspec": {
   "display_name": "venv",
   "language": "python",
   "name": "python3"
  },
  "language_info": {
   "codemirror_mode": {
    "name": "ipython",
    "version": 3
   },
   "file_extension": ".py",
   "mimetype": "text/x-python",
   "name": "python",
   "nbconvert_exporter": "python",
   "pygments_lexer": "ipython3",
   "version": "3.12.3"
  }
 },
 "nbformat": 4,
 "nbformat_minor": 5
}
