{
 "cells": [
  {
   "cell_type": "markdown",
   "id": "b7264ab2",
   "metadata": {},
   "source": [
    "# 01 Multidimensional multi Knapsack Problem\n",
    "\n",
    "## Problem Overview\n",
    "\n",
    "The multidimensional multi knapsack problem (MMKP) is a generalization of the classic knapsack problem. In this problem, we have multiple knapsacks, each with its own capacity constraints across multiple dimensions (e.g., weight, volume, etc.). We also have a set of items, each with a value and a set of weights corresponding to each dimension. The goal is to maximize the total value of the items placed in the knapsacks without exceeding the capacity constraints of any knapsack in any dimension. \n",
    "\n",
    "### Attributes\n",
    "- The `CONSTRAINTS` array define for each knapsack, what is the maximum weight and what volume it can carry.\n",
    "- The `WEIGHTS` array defines for each item, what are the dimensions of the item (weight, volume, ...).\n",
    "- The `VALUES` array defines for each item, what is its value.\n",
    "\n",
    "### Example Output\n",
    "\n",
    "with 3 kapsacks and 10 items with 2 dimensions (weight and volume):\n",
    "\n",
    "```bash\n",
    "(array([[287, 117],\n",
    "        [319, 114],\n",
    "        [204, 244]]),\n",
    " array([[52, 69],\n",
    "        [13, 86],\n",
    "        [89, 76],\n",
    "        [54, 52],\n",
    "        [25, 89],\n",
    "        [ 5, 87],\n",
    "        [50, 19],\n",
    "        [97, 60],\n",
    "        [85, 27],\n",
    "        [97, 79]]),\n",
    " array([64, 73, 52, 71,  0, 95,  0, 34, 31, 21]))\n",
    "```\n",
    "\n",
    "> Note: It is need less to say that the items are the indecises of the arrays like 0, 1, 2, ..., n-1 in `VALUES` and `WEIGHTS`. **and one items can be in only one knapsack.**"
   ]
  },
  {
   "cell_type": "code",
   "execution_count": 1,
   "id": "6182bb93",
   "metadata": {},
   "outputs": [],
   "source": [
    "import numpy as np\n",
    "from tqdm import tqdm\n",
    "from collections import deque"
   ]
  },
  {
   "cell_type": "code",
   "execution_count": 2,
   "id": "1340d27d",
   "metadata": {},
   "outputs": [],
   "source": [
    "# Problem 1 \n",
    "rng = np.random.default_rng(seed=42)\n",
    "NUM_KNAPSACKS = 3\n",
    "NUM_ITEMS = 10\n",
    "NUM_DIMENSIONS = 2\n",
    "VALUES = rng.integers(0, 100, size=NUM_ITEMS)\n",
    "WEIGHTS = rng.integers(0, 100, size=(NUM_ITEMS, NUM_DIMENSIONS))\n",
    "CONSTRAINTS = rng.integers(\n",
    "    0, 100 * NUM_ITEMS // NUM_KNAPSACKS, size=(NUM_KNAPSACKS, NUM_DIMENSIONS)\n",
    ")\n",
    "# inital solution with empty knapsacks\n",
    "solution = np.array(\n",
    "    [[False for _ in range(NUM_ITEMS)] for _ in range(NUM_KNAPSACKS)] , dtype=np.bool\n",
    ")\n",
    "# \n",
    "ACTION_SET = ['add','remove','swap']"
   ]
  },
  {
   "cell_type": "code",
   "execution_count": 3,
   "id": "ad35b710",
   "metadata": {},
   "outputs": [],
   "source": [
    "def value(solution : np.ndarray) -> int:\n",
    "    return (VALUES * np.any(solution, axis=0)).sum()\n",
    "\n",
    "def valid(solution : np.ndarray) -> bool:\n",
    "    return np.all(WEIGHTS.T@solution.T <= CONSTRAINTS.T)\n",
    "\n",
    "def get_items_left(solution: np.ndarray):\n",
    "    '''\n",
    "    Since each item can only be in one knapsack, we just check indices of current solution for all knapsacks are empty, if so, that item is left outside of knapsacks.\n",
    "    '''\n",
    "    items_in_knapsacks = np.any(solution, axis=0)\n",
    "    return np.where(~items_in_knapsacks)[0]\n",
    "\n",
    "def get_items_in(solution: np.ndarray):\n",
    "    '''\n",
    "    Same idea as get_items_left function, but here we return indices of items that are in knapsacks.\n",
    "    '''\n",
    "    items_in_knapsacks = np.any(solution, axis=0)\n",
    "    return np.where(items_in_knapsacks)[0]"
   ]
  },
  {
   "cell_type": "code",
   "execution_count": 4,
   "id": "bbbaebe9",
   "metadata": {},
   "outputs": [],
   "source": [
    "def action_tweak(solution: np.ndarray, action : str) -> np.ndarray:\n",
    "\n",
    "    assert action in ACTION_SET, f\"Action must be one of {ACTION_SET}\"\n",
    "\n",
    "    new_solution = solution.copy()\n",
    "\n",
    "    if action == 'add':\n",
    "        items_left = get_items_left(new_solution)\n",
    "        if len(items_left) == 0:\n",
    "            return new_solution, action\n",
    "        item_to_add = rng.choice(items_left)\n",
    "        knapsack_to_add = rng.integers(0, NUM_KNAPSACKS)\n",
    "        new_solution[knapsack_to_add, item_to_add] = True\n",
    "    elif action == 'remove':\n",
    "        items_in = get_items_in(new_solution)\n",
    "        if len(items_in) == 0:\n",
    "            return new_solution, action\n",
    "        item_to_remove = rng.choice(items_in)\n",
    "        knapsack_to_remove = np.where(new_solution[:, item_to_remove])[0][0] # find which knapsack has this item\n",
    "        new_solution[knapsack_to_remove, item_to_remove] = False\n",
    "    elif action == 'swap':\n",
    "        items_in = get_items_in(new_solution)\n",
    "        if len(items_in) > 1:\n",
    "            item_to_remove = rng.choice(items_in, size=2, replace=False)\n",
    "            knapsack_to_remove_1 = np.where(new_solution[:, item_to_remove[0]])[0][0]\n",
    "            knapsack_to_remove_2 = np.where(new_solution[:, item_to_remove[1]])[0][0]\n",
    "            new_solution[knapsack_to_remove_1, item_to_remove[0]] = False\n",
    "            new_solution[knapsack_to_remove_2, item_to_remove[1]] = False\n",
    "            new_solution[knapsack_to_remove_1, item_to_remove[1]] = True\n",
    "            new_solution[knapsack_to_remove_2, item_to_remove[0]] = True\n",
    "        else:\n",
    "            return new_solution, action\n",
    "\n",
    "    \n",
    "    return new_solution, action"
   ]
  },
  {
   "cell_type": "code",
   "execution_count": 28,
   "id": "681b1792",
   "metadata": {},
   "outputs": [
    {
     "name": "stdout",
     "output_type": "stream",
     "text": [
      "Action: swap\n",
      "Items left: [0 1 2 3 4 5 6 7 8 9] Count: 10\n",
      "Items in: [] Count: 0\n",
      "Value: 0\n",
      "Valid: True\n",
      "--------------------\n",
      "Action: swap\n",
      "Items left: [0 1 2 3 4 5 6 7 8 9] Count: 10\n",
      "Items in: [] Count: 0\n",
      "Value: 0\n",
      "Valid: True\n",
      "--------------------\n",
      "Action: add\n",
      "Items left: [0 1 2 4 5 6 7 8 9] Count: 9\n",
      "Items in: [3] Count: 1\n",
      "Value: 43\n",
      "Valid: False\n",
      "--------------------\n",
      "Action: add\n",
      "Items left: [1 2 4 5 6 7 8 9] Count: 8\n",
      "Items in: [0 3] Count: 2\n",
      "Value: 51\n",
      "Valid: False\n",
      "--------------------\n",
      "Action: add\n",
      "Items left: [1 2 4 5 6 7 9] Count: 7\n",
      "Items in: [0 3 8] Count: 3\n",
      "Value: 71\n",
      "Valid: False\n",
      "--------------------\n",
      "Action: add\n",
      "Items left: [1 4 5 6 7 9] Count: 6\n",
      "Items in: [0 2 3 8] Count: 4\n",
      "Value: 136\n",
      "Valid: False\n",
      "--------------------\n",
      "Action: add\n",
      "Items left: [1 4 5 7 9] Count: 5\n",
      "Items in: [0 2 3 6 8] Count: 5\n",
      "Value: 144\n",
      "Valid: False\n",
      "--------------------\n",
      "Action: add\n",
      "Items left: [4 5 7 9] Count: 4\n",
      "Items in: [0 1 2 3 6 8] Count: 6\n",
      "Value: 221\n",
      "Valid: False\n",
      "--------------------\n",
      "Action: add\n",
      "Items left: [4 7 9] Count: 3\n",
      "Items in: [0 1 2 3 5 6 8] Count: 7\n",
      "Value: 306\n",
      "Valid: False\n",
      "--------------------\n",
      "Action: add\n",
      "Items left: [4 9] Count: 2\n",
      "Items in: [0 1 2 3 5 6 7 8] Count: 8\n",
      "Value: 375\n",
      "Valid: False\n",
      "--------------------\n"
     ]
    }
   ],
   "source": [
    "def test_tweak(solution):\n",
    "    new_solution = solution.copy()\n",
    "    for _ in range(10):\n",
    "        new_solution, act = action_tweak(new_solution, action=rng.choice(ACTION_SET, p=[0.6,0.1,0.3]))\n",
    "        items_left = get_items_left(new_solution)\n",
    "        print(\"Action:\", act)\n",
    "        print(\"Items left:\", items_left, \"Count:\", len(items_left))\n",
    "        print(\"Items in:\", get_items_in(new_solution), \"Count:\", len(get_items_in(new_solution)))\n",
    "        print(\"Value:\", value(new_solution))\n",
    "        print(\"Valid:\", valid(new_solution))\n",
    "        print(20 * \"-\")\n",
    "        # print(new_solution)\n",
    "    return new_solution\n",
    "n_s = test_tweak(solution)"
   ]
  },
  {
   "cell_type": "code",
   "execution_count": null,
   "id": "bdc2dda8",
   "metadata": {},
   "outputs": [],
   "source": [
    "from collections import deque\n",
    "\n",
    "def hill_climbing(solution: np.ndarray, max_iter=1000, max_messages=5, print_every=100):\n",
    "    best_solution = solution.copy()\n",
    "    best_value = value(best_solution)\n",
    "    messages = deque(maxlen=max_messages)\n",
    "    \n",
    "    for iteration in tqdm(range(max_iter), desc=\"Hill Climbing\"):\n",
    "\n",
    "        new_solution, _ = action_tweak(best_solution, \n",
    "                                       action=rng.choice(ACTION_SET))\n",
    "\n",
    "        items_left = len(get_items_left(new_solution))\n",
    "        \n",
    "        if valid(new_solution):\n",
    "            new_value = value(new_solution)\n",
    "            if new_value > best_value:\n",
    "                best_value = new_value\n",
    "                best_solution = new_solution\n",
    "                messages.append(f\"Iter {iteration}: value = {best_value}, item left = {items_left}\")\n",
    "            if new_value == best_value:\n",
    "                best_solution = new_solution\n",
    "\n",
    "        if iteration % print_every == 0 and messages:\n",
    "            tqdm.write(\"\\n\".join(messages))\n",
    "            messages.clear()\n",
    "\n",
    "        if items_left == 0:\n",
    "            tqdm.write(\"All items assigned!\")\n",
    "            return new_solution, value(new_solution), items_left\n",
    "\n",
    "    # tqdm.write(f\"Iter {iteration + 1}: Best value = {best_value}, items left = {len(get_items_left(best_solution))}\")\n",
    "    return best_solution, best_value, items_left"
   ]
  },
  {
   "cell_type": "markdown",
   "id": "0c78acb3",
   "metadata": {},
   "source": [
    "# Probem 1 Configuration"
   ]
  },
  {
   "cell_type": "code",
   "execution_count": 7,
   "id": "4dee8cf1",
   "metadata": {},
   "outputs": [
    {
     "name": "stderr",
     "output_type": "stream",
     "text": [
      "Hill Climbing:   0%|          | 155/100000 [00:00<00:14, 6803.45it/s]"
     ]
    },
    {
     "name": "stdout",
     "output_type": "stream",
     "text": [
      "Iter 41: value = 591, item left = 9\n",
      "Iter 42: value = 603, item left = 8\n",
      "Iter 52: value = 611, item left = 7\n",
      "Iter 55: value = 694, item left = 6\n",
      "Iter 58: value = 772, item left = 5\n",
      "All items assigned!\n",
      "----------------------------------------------------------------------------------------------------\n",
      "Best value found for problem 1: 1065\n"
     ]
    },
    {
     "name": "stderr",
     "output_type": "stream",
     "text": [
      "\n"
     ]
    }
   ],
   "source": [
    "# Problem 1 \n",
    "rng = np.random.default_rng(seed=42)\n",
    "NUM_KNAPSACKS = 3\n",
    "NUM_ITEMS = 20\n",
    "NUM_DIMENSIONS = 2\n",
    "VALUES = rng.integers(0, 100, size=NUM_ITEMS)\n",
    "WEIGHTS = rng.integers(0, 100, size=(NUM_ITEMS, NUM_DIMENSIONS))\n",
    "CONSTRAINTS = rng.integers(\n",
    "    0, 100 * NUM_ITEMS // NUM_KNAPSACKS, size=(NUM_KNAPSACKS, NUM_DIMENSIONS)\n",
    ")\n",
    "# inital solution with empty knapsacks\n",
    "solution = np.array(\n",
    "    [[False for _ in range(NUM_ITEMS)] for _ in range(NUM_KNAPSACKS)] , dtype=np.bool\n",
    ")\n",
    "\n",
    "best_solution, best_value, items_left_num = hill_climbing(solution, max_iter=100000)\n",
    "print(100 * \"-\")\n",
    "print(\"Best value found for problem 1:\", best_value)\n",
    "if items_left_num != 0:\n",
    "    print(\"But there are still\", items_left_num, \"items left unassigned.\")"
   ]
  },
  {
   "cell_type": "code",
   "execution_count": null,
   "id": "8831f405",
   "metadata": {},
   "outputs": [],
   "source": [
    "def sa_hill_climbing(solution: np.ndarray, max_iter=1000, max_messages=5,\n",
    "                    print_every=100, initial_temp=1.0, cooling_rate=0.99):\n",
    "    best_solution = solution.copy()\n",
    "    best_value = value(best_solution)\n",
    "    temp = initial_temp\n",
    "    messages = deque(maxlen=max_messages)\n",
    "\n",
    "    for iteration in tqdm(range(max_iter), desc=\"Simulated Annealing Hill Climbing\"):\n",
    "        new_solution = sa_tweak(best_solution, strength=0.8)\n",
    "        items_left = len(get_items_left(new_solution))\n",
    "\n",
    "        if valid(new_solution):\n",
    "            new_value = value(new_solution)\n",
    "            if new_value > best_value:\n",
    "                best_value = new_value\n",
    "                best_solution = new_solution\n",
    "                messages.append(f\"Iter {iteration}: value = {best_value}, item left = {items_left}\")\n",
    "            elif new_value == best_value: # moving is better than staying ! \n",
    "                best_solution = new_solution\n",
    "            else: # SA \n",
    "                # accept with a probability of exp((new_value - best_value) / temp)\n",
    "                prob = np.exp((new_value - best_value) / temp)\n",
    "                if np.random.rand() < prob:\n",
    "                    best_solution = new_solution\n",
    "\n",
    "        temp *= cooling_rate\n",
    "\n",
    "        if iteration % print_every == 0 and messages:\n",
    "            tqdm.write(\"\\n\".join(messages))\n",
    "            messages.clear()\n",
    "\n",
    "        if items_left == 0:\n",
    "            tqdm.write(\"All items assigned!\")\n",
    "            return new_solution, value(new_solution), items_left\n",
    "\n",
    "    return best_solution, best_value, items_left"
   ]
  },
  {
   "cell_type": "markdown",
   "id": "9b66789b",
   "metadata": {},
   "source": [
    "# Problem 2 Configuration"
   ]
  },
  {
   "cell_type": "code",
   "execution_count": 73,
   "id": "2fc6f7bc",
   "metadata": {},
   "outputs": [
    {
     "name": "stderr",
     "output_type": "stream",
     "text": [
      "Hill Climbing:   0%|          | 2454/1000000 [00:00<01:20, 12326.58it/s]"
     ]
    },
    {
     "name": "stdout",
     "output_type": "stream",
     "text": [
      "Iter 92: value = 11857, item left = 75\n",
      "Iter 93: value = 12493, item left = 74\n",
      "Iter 94: value = 12990, item left = 73\n",
      "Iter 95: value = 13428, item left = 72\n",
      "Iter 100: value = 13495, item left = 71\n",
      "Iter 174: value = 20838, item left = 57\n",
      "Iter 175: value = 21665, item left = 56\n",
      "Iter 177: value = 22469, item left = 55\n",
      "Iter 183: value = 22944, item left = 54\n",
      "Iter 189: value = 23783, item left = 53\n",
      "Iter 260: value = 30962, item left = 40\n",
      "Iter 261: value = 31740, item left = 39\n",
      "Iter 264: value = 31966, item left = 38\n",
      "Iter 265: value = 32296, item left = 37\n",
      "Iter 275: value = 32762, item left = 36\n",
      "Iter 356: value = 33620, item left = 35\n",
      "Iter 376: value = 34337, item left = 34\n",
      "Iter 415: value = 34707, item left = 33\n",
      "Iter 469: value = 34846, item left = 32\n",
      "Iter 575: value = 35209, item left = 31\n",
      "Iter 952: value = 35840, item left = 30\n",
      "Iter 976: value = 36302, item left = 29\n",
      "Iter 1139: value = 36430, item left = 28\n",
      "Iter 1154: value = 37211, item left = 27\n",
      "Iter 1313: value = 37954, item left = 26\n",
      "Iter 1320: value = 38749, item left = 25\n",
      "Iter 1485: value = 39671, item left = 24\n",
      "Iter 1748: value = 40569, item left = 23\n",
      "Iter 1758: value = 40698, item left = 22\n",
      "Iter 2143: value = 41052, item left = 21\n",
      "Iter 2180: value = 41146, item left = 20\n",
      "Iter 2228: value = 42113, item left = 19\n"
     ]
    },
    {
     "name": "stderr",
     "output_type": "stream",
     "text": [
      "Hill Climbing:   1%|          | 5349/1000000 [00:00<01:11, 13838.84it/s]"
     ]
    },
    {
     "name": "stdout",
     "output_type": "stream",
     "text": [
      "Iter 2590: value = 42886, item left = 18\n"
     ]
    },
    {
     "name": "stderr",
     "output_type": "stream",
     "text": [
      "Hill Climbing:   1%|          | 8376/1000000 [00:00<01:07, 14652.31it/s]"
     ]
    },
    {
     "name": "stdout",
     "output_type": "stream",
     "text": [
      "Iter 6060: value = 42971, item left = 17\n",
      "Iter 6624: value = 43165, item left = 16\n"
     ]
    },
    {
     "name": "stderr",
     "output_type": "stream",
     "text": [
      "Hill Climbing:   2%|▏         | 16205/1000000 [00:01<01:03, 15545.91it/s]"
     ]
    },
    {
     "name": "stdout",
     "output_type": "stream",
     "text": [
      "Iter 13816: value = 43719, item left = 15\n",
      "Iter 16479: value = 44419, item left = 14\n"
     ]
    },
    {
     "name": "stderr",
     "output_type": "stream",
     "text": [
      "Hill Climbing:   2%|▏         | 20823/1000000 [00:01<01:04, 15169.29it/s]"
     ]
    },
    {
     "name": "stdout",
     "output_type": "stream",
     "text": [
      "Iter 18659: value = 44869, item left = 13\n",
      "Iter 21468: value = 45551, item left = 12\n"
     ]
    },
    {
     "name": "stderr",
     "output_type": "stream",
     "text": [
      "Hill Climbing:   5%|▌         | 54337/1000000 [00:03<01:00, 15741.10it/s]"
     ]
    },
    {
     "name": "stdout",
     "output_type": "stream",
     "text": [
      "Iter 51485: value = 46205, item left = 11\n"
     ]
    },
    {
     "name": "stderr",
     "output_type": "stream",
     "text": [
      "Hill Climbing:  17%|█▋        | 168530/1000000 [00:10<00:53, 15575.04it/s]"
     ]
    },
    {
     "name": "stdout",
     "output_type": "stream",
     "text": [
      "Iter 166894: value = 46966, item left = 10\n"
     ]
    },
    {
     "name": "stderr",
     "output_type": "stream",
     "text": [
      "Hill Climbing:  19%|█▉        | 192503/1000000 [00:12<00:50, 15946.67it/s]"
     ]
    },
    {
     "name": "stdout",
     "output_type": "stream",
     "text": [
      "Iter 189371: value = 47871, item left = 9\n"
     ]
    },
    {
     "name": "stderr",
     "output_type": "stream",
     "text": [
      "Hill Climbing:  43%|████▎     | 430147/1000000 [00:28<00:35, 15975.93it/s]"
     ]
    },
    {
     "name": "stdout",
     "output_type": "stream",
     "text": [
      "Iter 427983: value = 48554, item left = 8\n"
     ]
    },
    {
     "name": "stderr",
     "output_type": "stream",
     "text": [
      "Hill Climbing: 100%|██████████| 1000000/1000000 [01:05<00:00, 15287.00it/s]"
     ]
    },
    {
     "name": "stdout",
     "output_type": "stream",
     "text": [
      "----------------------------------------------------------------------------------------------------\n",
      "Best value found for problem 2: 48554\n",
      "But there are still 8 items left unassigned.\n"
     ]
    },
    {
     "name": "stderr",
     "output_type": "stream",
     "text": [
      "\n"
     ]
    }
   ],
   "source": [
    "# Problem 2:\n",
    "rng = np.random.default_rng(seed=42)\n",
    "NUM_KNAPSACKS = 10\n",
    "NUM_ITEMS = 100\n",
    "NUM_DIMENSIONS = 10\n",
    "VALUES = rng.integers(0, 1000, size=NUM_ITEMS)\n",
    "WEIGHTS = rng.integers(0, 1000, size=(NUM_ITEMS, NUM_DIMENSIONS))\n",
    "CONSTRAINTS = rng.integers(\n",
    "    1000 * 2, 1000 * NUM_ITEMS // NUM_KNAPSACKS, size=(NUM_KNAPSACKS, NUM_DIMENSIONS)\n",
    ")\n",
    "# inital solution with empty knapsacks\n",
    "solution = np.array(\n",
    "    [[False for _ in range(NUM_ITEMS)] for _ in range(NUM_KNAPSACKS)] , dtype=np.bool\n",
    ")\n",
    "\n",
    "best_solution, best_value, items_left_num = hill_climbing(solution, max_iter=1000000)\n",
    "print(100 * \"-\")\n",
    "print(\"Best value found for problem 2:\", best_value)\n",
    "if items_left_num != 0:\n",
    "    print(\"But there are still\", items_left_num, \"items left unassigned.\")"
   ]
  },
  {
   "cell_type": "markdown",
   "id": "3a3b2a1f",
   "metadata": {},
   "source": [
    "# Problem 3 "
   ]
  },
  {
   "cell_type": "code",
   "execution_count": 74,
   "id": "4c7c2e09",
   "metadata": {},
   "outputs": [
    {
     "name": "stderr",
     "output_type": "stream",
     "text": [
      "Hill Climbing:   0%|          | 0/50000 [00:00<?, ?it/s]"
     ]
    },
    {
     "name": "stderr",
     "output_type": "stream",
     "text": [
      "Hill Climbing:   0%|          | 102/50000 [00:18<2:19:12,  5.97it/s]"
     ]
    },
    {
     "name": "stdout",
     "output_type": "stream",
     "text": [
      "Iter 86: value = 16372, item left = 4973\n",
      "Iter 88: value = 17230, item left = 4972\n",
      "Iter 91: value = 17573, item left = 4971\n",
      "Iter 94: value = 18343, item left = 4970\n",
      "Iter 95: value = 18932, item left = 4969\n"
     ]
    },
    {
     "name": "stderr",
     "output_type": "stream",
     "text": [
      "Hill Climbing:   0%|          | 202/50000 [00:37<2:42:03,  5.12it/s]"
     ]
    },
    {
     "name": "stdout",
     "output_type": "stream",
     "text": [
      "Iter 173: value = 30230, item left = 4948\n",
      "Iter 182: value = 31157, item left = 4947\n",
      "Iter 186: value = 32069, item left = 4946\n",
      "Iter 193: value = 32728, item left = 4945\n",
      "Iter 194: value = 32734, item left = 4944\n"
     ]
    },
    {
     "name": "stderr",
     "output_type": "stream",
     "text": [
      "Hill Climbing:   1%|          | 302/50000 [00:54<2:19:56,  5.92it/s]"
     ]
    },
    {
     "name": "stdout",
     "output_type": "stream",
     "text": [
      "Iter 292: value = 52873, item left = 4905\n",
      "Iter 293: value = 53241, item left = 4904\n",
      "Iter 295: value = 54003, item left = 4903\n",
      "Iter 298: value = 54906, item left = 4902\n",
      "Iter 300: value = 55239, item left = 4901\n"
     ]
    },
    {
     "name": "stderr",
     "output_type": "stream",
     "text": [
      "Hill Climbing:   1%|          | 311/50000 [00:56<2:29:18,  5.55it/s]\n"
     ]
    },
    {
     "ename": "KeyboardInterrupt",
     "evalue": "",
     "output_type": "error",
     "traceback": [
      "\u001b[31m---------------------------------------------------------------------------\u001b[39m",
      "\u001b[31mKeyboardInterrupt\u001b[39m                         Traceback (most recent call last)",
      "\u001b[36mCell\u001b[39m\u001b[36m \u001b[39m\u001b[32mIn[74]\u001b[39m\u001b[32m, line 16\u001b[39m\n\u001b[32m     11\u001b[39m \u001b[38;5;66;03m# inital solution with empty knapsacks\u001b[39;00m\n\u001b[32m     12\u001b[39m solution = np.array(\n\u001b[32m     13\u001b[39m     [[\u001b[38;5;28;01mFalse\u001b[39;00m \u001b[38;5;28;01mfor\u001b[39;00m _ \u001b[38;5;129;01min\u001b[39;00m \u001b[38;5;28mrange\u001b[39m(NUM_ITEMS)] \u001b[38;5;28;01mfor\u001b[39;00m _ \u001b[38;5;129;01min\u001b[39;00m \u001b[38;5;28mrange\u001b[39m(NUM_KNAPSACKS)] , dtype=np.bool\n\u001b[32m     14\u001b[39m )\n\u001b[32m---> \u001b[39m\u001b[32m16\u001b[39m best_solution, best_value, items_left_num = \u001b[43mhill_climbing\u001b[49m\u001b[43m(\u001b[49m\u001b[43msolution\u001b[49m\u001b[43m,\u001b[49m\u001b[43m \u001b[49m\u001b[43mmax_iter\u001b[49m\u001b[43m=\u001b[49m\u001b[32;43m50000\u001b[39;49m\u001b[43m)\u001b[49m\n\u001b[32m     17\u001b[39m \u001b[38;5;28mprint\u001b[39m(\u001b[32m100\u001b[39m * \u001b[33m\"\u001b[39m\u001b[33m-\u001b[39m\u001b[33m\"\u001b[39m)\n\u001b[32m     18\u001b[39m \u001b[38;5;28mprint\u001b[39m(\u001b[33m\"\u001b[39m\u001b[33mBest value found for problem 3:\u001b[39m\u001b[33m\"\u001b[39m, best_value)\n",
      "\u001b[36mCell\u001b[39m\u001b[36m \u001b[39m\u001b[32mIn[71]\u001b[39m\u001b[32m, line 15\u001b[39m, in \u001b[36mhill_climbing\u001b[39m\u001b[34m(solution, max_iter, max_messages, print_every)\u001b[39m\n\u001b[32m     10\u001b[39m new_solution, _ = action_tweak(best_solution, \n\u001b[32m     11\u001b[39m                                action=rng.choice(ACTION_SET))\n\u001b[32m     13\u001b[39m items_left = \u001b[38;5;28mlen\u001b[39m(get_items_left(new_solution))\n\u001b[32m---> \u001b[39m\u001b[32m15\u001b[39m \u001b[38;5;28;01mif\u001b[39;00m \u001b[43mvalid\u001b[49m\u001b[43m(\u001b[49m\u001b[43mnew_solution\u001b[49m\u001b[43m)\u001b[49m:\n\u001b[32m     16\u001b[39m     new_value = value(new_solution)\n\u001b[32m     17\u001b[39m     \u001b[38;5;28;01mif\u001b[39;00m new_value > best_value:\n",
      "\u001b[36mCell\u001b[39m\u001b[36m \u001b[39m\u001b[32mIn[63]\u001b[39m\u001b[32m, line 5\u001b[39m, in \u001b[36mvalid\u001b[39m\u001b[34m(solution)\u001b[39m\n\u001b[32m      4\u001b[39m \u001b[38;5;28;01mdef\u001b[39;00m\u001b[38;5;250m \u001b[39m\u001b[34mvalid\u001b[39m(solution : np.ndarray) -> \u001b[38;5;28mbool\u001b[39m:\n\u001b[32m----> \u001b[39m\u001b[32m5\u001b[39m     \u001b[38;5;28;01mreturn\u001b[39;00m \u001b[43mnp\u001b[49m\u001b[43m.\u001b[49m\u001b[43mall\u001b[49m\u001b[43m(\u001b[49m\u001b[43mWEIGHTS\u001b[49m\u001b[43m.\u001b[49m\u001b[43mT\u001b[49m\u001b[38;5;129;43m@solution\u001b[39;49m\u001b[43m.\u001b[49m\u001b[43mT\u001b[49m\u001b[43m \u001b[49m\u001b[43m<\u001b[49m\u001b[43m=\u001b[49m\u001b[43m \u001b[49m\u001b[43mCONSTRAINTS\u001b[49m\u001b[43m.\u001b[49m\u001b[43mT\u001b[49m\u001b[43m)\u001b[49m\n",
      "\u001b[36mFile \u001b[39m\u001b[32m~/Projects/CI/venv/lib/python3.12/site-packages/numpy/_core/fromnumeric.py:2584\u001b[39m, in \u001b[36m_all_dispatcher\u001b[39m\u001b[34m(a, axis, out, keepdims, where)\u001b[39m\n\u001b[32m   2479\u001b[39m \u001b[38;5;250m    \u001b[39m\u001b[33;03m\"\"\"\u001b[39;00m\n\u001b[32m   2480\u001b[39m \u001b[33;03m    Test whether any array element along a given axis evaluates to True.\u001b[39;00m\n\u001b[32m   2481\u001b[39m \n\u001b[32m   (...)\u001b[39m\u001b[32m   2578\u001b[39m \n\u001b[32m   2579\u001b[39m \u001b[33;03m    \"\"\"\u001b[39;00m\n\u001b[32m   2580\u001b[39m     \u001b[38;5;28;01mreturn\u001b[39;00m _wrapreduction_any_all(a, np.logical_or, \u001b[33m'\u001b[39m\u001b[33many\u001b[39m\u001b[33m'\u001b[39m, axis, out,\n\u001b[32m   2581\u001b[39m                                   keepdims=keepdims, where=where)\n\u001b[32m-> \u001b[39m\u001b[32m2584\u001b[39m \u001b[38;5;28;01mdef\u001b[39;00m\u001b[38;5;250m \u001b[39m\u001b[34m_all_dispatcher\u001b[39m(a, axis=\u001b[38;5;28;01mNone\u001b[39;00m, out=\u001b[38;5;28;01mNone\u001b[39;00m, keepdims=\u001b[38;5;28;01mNone\u001b[39;00m, *,\n\u001b[32m   2585\u001b[39m                     where=\u001b[38;5;28;01mNone\u001b[39;00m):\n\u001b[32m   2586\u001b[39m     \u001b[38;5;28;01mreturn\u001b[39;00m (a, where, out)\n\u001b[32m   2589\u001b[39m \u001b[38;5;129m@array_function_dispatch\u001b[39m(_all_dispatcher)\n\u001b[32m   2590\u001b[39m \u001b[38;5;28;01mdef\u001b[39;00m\u001b[38;5;250m \u001b[39m\u001b[34mall\u001b[39m(a, axis=\u001b[38;5;28;01mNone\u001b[39;00m, out=\u001b[38;5;28;01mNone\u001b[39;00m, keepdims=np._NoValue, *, where=np._NoValue):\n",
      "\u001b[31mKeyboardInterrupt\u001b[39m: "
     ]
    }
   ],
   "source": [
    "# Problem 3:\n",
    "rng = np.random.default_rng(seed=42)\n",
    "NUM_KNAPSACKS = 100\n",
    "NUM_ITEMS = 5000\n",
    "NUM_DIMENSIONS = 100\n",
    "VALUES = rng.integers(0, 1000, size=NUM_ITEMS)\n",
    "WEIGHTS = rng.integers(0, 1000, size=(NUM_ITEMS, NUM_DIMENSIONS))\n",
    "CONSTRAINTS = rng.integers(\n",
    "    1000 * 10, 1000 * 2 * NUM_ITEMS // NUM_KNAPSACKS, size=(NUM_KNAPSACKS, NUM_DIMENSIONS)\n",
    ")\n",
    "# inital solution with empty knapsacks\n",
    "solution = np.array(\n",
    "    [[False for _ in range(NUM_ITEMS)] for _ in range(NUM_KNAPSACKS)] , dtype=np.bool\n",
    ")\n",
    "\n",
    "best_solution, best_value, items_left_num = hill_climbing(solution, max_iter=50000)\n",
    "print(100 * \"-\")\n",
    "print(\"Best value found for problem 3:\", best_value)\n",
    "if items_left_num != 0:\n",
    "    print(\"But there are still\", items_left_num, \"items left unassigned.\")"
   ]
  },
  {
   "cell_type": "code",
   "execution_count": null,
   "id": "53bdbe70",
   "metadata": {},
   "outputs": [],
   "source": []
  }
 ],
 "metadata": {
  "kernelspec": {
   "display_name": "venv",
   "language": "python",
   "name": "python3"
  },
  "language_info": {
   "codemirror_mode": {
    "name": "ipython",
    "version": 3
   },
   "file_extension": ".py",
   "mimetype": "text/x-python",
   "name": "python",
   "nbconvert_exporter": "python",
   "pygments_lexer": "ipython3",
   "version": "3.12.3"
  }
 },
 "nbformat": 4,
 "nbformat_minor": 5
}
