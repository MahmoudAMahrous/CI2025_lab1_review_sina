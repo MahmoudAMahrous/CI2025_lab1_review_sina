{
 "cells": [
  {
   "cell_type": "markdown",
   "id": "b7264ab2",
   "metadata": {},
   "source": [
    "# 01 Multidimensional multi Knapsack Problem\n",
    "\n",
    "## Problem Overview\n",
    "\n",
    "The multidimensional multi knapsack problem (MMKP) is a generalization of the classic knapsack problem. In this problem, we have multiple knapsacks, each with its own capacity constraints across multiple dimensions (e.g., weight, volume, etc.). We also have a set of items, each with a value and a set of weights corresponding to each dimension. The goal is to maximize the total value of the items placed in the knapsacks without exceeding the capacity constraints of any knapsack in any dimension. \n",
    "\n",
    "### Attributes\n",
    "- The `CONSTRAINTS` array define for each knapsack, what is the maximum weight and what volume it can carry.\n",
    "- The `WEIGHTS` array defines for each item, what are the dimensions of the item (weight, volume, ...).\n",
    "- The `VALUES` array defines for each item, what is its value.\n",
    "\n",
    "### Example Output\n",
    "\n",
    "with 3 kapsacks and 10 items with 2 dimensions (weight and volume):\n",
    "\n",
    "```bash\n",
    "(array([[287, 117],\n",
    "        [319, 114],\n",
    "        [204, 244]]),\n",
    " array([[52, 69],\n",
    "        [13, 86],\n",
    "        [89, 76],\n",
    "        [54, 52],\n",
    "        [25, 89],\n",
    "        [ 5, 87],\n",
    "        [50, 19],\n",
    "        [97, 60],\n",
    "        [85, 27],\n",
    "        [97, 79]]),\n",
    " array([64, 73, 52, 71,  0, 95,  0, 34, 31, 21]))\n",
    "```\n",
    "\n",
    "> Note: It is need less to say that the items are the indecises of the arrays like 0, 1, 2, ..., n-1 in `VALUES` and `WEIGHTS`. **and one items can be in only one knapsack.**"
   ]
  },
  {
   "cell_type": "code",
   "execution_count": 6,
   "id": "6182bb93",
   "metadata": {},
   "outputs": [],
   "source": [
    "import numpy as np\n",
    "from tqdm import tqdm\n",
    "from collections import deque"
   ]
  },
  {
   "cell_type": "code",
   "execution_count": 2,
   "id": "1340d27d",
   "metadata": {},
   "outputs": [],
   "source": [
    "# Problem 1 \n",
    "rng = np.random.default_rng(seed=42)\n",
    "NUM_KNAPSACKS = 3\n",
    "NUM_ITEMS = 10\n",
    "NUM_DIMENSIONS = 2\n",
    "VALUES = rng.integers(0, 100, size=NUM_ITEMS)\n",
    "WEIGHTS = rng.integers(0, 100, size=(NUM_ITEMS, NUM_DIMENSIONS))\n",
    "CONSTRAINTS = rng.integers(\n",
    "    0, 100 * NUM_ITEMS // NUM_KNAPSACKS, size=(NUM_KNAPSACKS, NUM_DIMENSIONS)\n",
    ")\n",
    "# inital solution with empty knapsacks\n",
    "solution = np.array(\n",
    "    [[False for _ in range(NUM_ITEMS)] for _ in range(NUM_KNAPSACKS)] , dtype=np.bool\n",
    ")"
   ]
  },
  {
   "cell_type": "code",
   "execution_count": 2,
   "id": "ad35b710",
   "metadata": {},
   "outputs": [],
   "source": [
    "def value(solution : np.ndarray) -> int:\n",
    "    return (VALUES * np.any(solution, axis=0)).sum()\n",
    "\n",
    "def valid(solution : np.ndarray) -> bool:\n",
    "    return np.all(WEIGHTS.T@solution.T <= CONSTRAINTS.T)\n",
    "\n",
    "def get_items_left(solution: np.ndarray):\n",
    "    '''\n",
    "    Since each item can only be in one knapsack, we just check indices of current solution for all knapsacks are empty, if so, that item is left outside of knapsacks.\n",
    "    '''\n",
    "    items_in_knapsacks = np.any(solution, axis=0)\n",
    "    return np.where(~items_in_knapsacks)[0]"
   ]
  },
  {
   "cell_type": "code",
   "execution_count": 3,
   "id": "10df1fa0",
   "metadata": {},
   "outputs": [],
   "source": [
    "def tweak(solution : np.ndarray) -> np.ndarray:\n",
    "    '''\n",
    "    tweak the solution by randomly assigning one **unassigned item** to a random knapsack.\n",
    "\n",
    "    By checking unassigned items, we ensure that we do not put an item in two knapsacks.\n",
    "    '''\n",
    "    new_solution = solution.copy()\n",
    "    # what are the items left to be assigned\n",
    "    items_left = get_items_left(new_solution)\n",
    "    if len(items_left) == 0:\n",
    "        return new_solution\n",
    "    # randomly pick one items in range [0, NUM_ITEMS)\n",
    "    item = np.random.choice(items_left) # this is the index in KANAPSACK\n",
    "    # randomly pick one knapsack in range [0, NUM_KNAPSACKS)\n",
    "    knapsack = np.random.randint(0, NUM_KNAPSACKS)\n",
    "    # assign the item to the knapsack\n",
    "    new_solution[knapsack, item] = True\n",
    "    \n",
    "    return new_solution\n",
    "\n",
    "def sa_tweak(solution : np.ndarray, strength : float = 0.5) -> np.ndarray:\n",
    "    '''\n",
    "    Simulated Annealing tweak\n",
    "    '''\n",
    "    \n",
    "    new_solution = solution.copy()\n",
    "    # what are the items left to be assigned\n",
    "    items_left = get_items_left(new_solution)\n",
    "    if len(items_left) == 0:\n",
    "        return new_solution\n",
    "    \n",
    "    again = True\n",
    "    while again:\n",
    "\n",
    "        item = np.random.choice(items_left) # this is the index in KANAPSACK\n",
    "        knapsack = np.random.randint(0, NUM_KNAPSACKS)\n",
    "        new_solution[knapsack, item] = True\n",
    "        again = np.random.rand() < strength\n",
    "\n",
    "    return new_solution"
   ]
  },
  {
   "cell_type": "code",
   "execution_count": 5,
   "id": "681b1792",
   "metadata": {},
   "outputs": [
    {
     "name": "stdout",
     "output_type": "stream",
     "text": [
      "Items left: [0 1 2 3 4 5 7 8 9] Count: 9\n",
      "Value: 8\n",
      "Valid: False\n",
      "Items left: [0 1 2 3 5 7 8 9] Count: 8\n",
      "Value: 51\n",
      "Valid: False\n",
      "Items left: [1 2 3 5 7 8 9] Count: 7\n",
      "Value: 59\n",
      "Valid: False\n",
      "Items left: [1 2 5 7 8 9] Count: 6\n",
      "Value: 102\n",
      "Valid: False\n",
      "Items left: [1 2 5 7 9] Count: 5\n",
      "Value: 122\n",
      "Valid: False\n"
     ]
    }
   ],
   "source": [
    "def test_tweak(solution):\n",
    "    new_solution = solution.copy()\n",
    "    for _ in range(5):\n",
    "        new_solution = tweak(new_solution)\n",
    "        items_left = get_items_left(new_solution)\n",
    "\n",
    "        print(\"Items left:\", items_left, \"Count:\", len(items_left))\n",
    "        print(\"Value:\", value(new_solution))\n",
    "        print(\"Valid:\", valid(new_solution))\n",
    "        # print(new_solution)\n",
    "test_tweak(solution)"
   ]
  },
  {
   "cell_type": "code",
   "execution_count": 6,
   "id": "bdc2dda8",
   "metadata": {},
   "outputs": [],
   "source": [
    "from collections import deque\n",
    "\n",
    "def hill_climbing(solution: np.ndarray, max_iter=1000, max_messages=5, print_every=100):\n",
    "    best_solution = solution.copy()\n",
    "    best_value = value(best_solution)\n",
    "    messages = deque(maxlen=max_messages)\n",
    "    \n",
    "    for iteration in tqdm(range(max_iter), desc=\"Hill Climbing\"):\n",
    "        new_solution = tweak(best_solution)\n",
    "\n",
    "        items_left = len(get_items_left(new_solution))\n",
    "        \n",
    "        if valid(new_solution):\n",
    "            new_value = value(new_solution)\n",
    "            if new_value > best_value:\n",
    "                best_value = new_value\n",
    "                best_solution = new_solution\n",
    "                messages.append(f\"Iter {iteration}: value = {best_value}, item left = {items_left}\")\n",
    "            if new_value == best_value:\n",
    "                best_solution = new_solution\n",
    "\n",
    "        if iteration % print_every == 0 and messages:\n",
    "            tqdm.write(\"\\n\".join(messages))\n",
    "            messages.clear()\n",
    "\n",
    "        if items_left == 0:\n",
    "            tqdm.write(\"All items assigned!\")\n",
    "            break\n",
    "\n",
    "    # tqdm.write(f\"Iter {iteration + 1}: Best value = {best_value}, items left = {len(get_items_left(best_solution))}\")\n",
    "    return best_solution, best_value, items_left"
   ]
  },
  {
   "cell_type": "markdown",
   "id": "0c78acb3",
   "metadata": {},
   "source": [
    "# Probem 1 Configuration"
   ]
  },
  {
   "cell_type": "code",
   "execution_count": 7,
   "id": "4dee8cf1",
   "metadata": {},
   "outputs": [
    {
     "name": "stderr",
     "output_type": "stream",
     "text": [
      "Hill Climbing:   0%|          | 41/10000 [00:00<00:03, 2854.31it/s]"
     ]
    },
    {
     "name": "stdout",
     "output_type": "stream",
     "text": [
      "Iter 0: value = 51, item left = 19\n",
      "All items assigned!\n",
      "----------------------------------------------------------------------------------------------------\n",
      "Best value found for problem 1: 994\n"
     ]
    },
    {
     "name": "stderr",
     "output_type": "stream",
     "text": [
      "\n"
     ]
    }
   ],
   "source": [
    "# Problem 1 \n",
    "rng = np.random.default_rng(seed=42)\n",
    "NUM_KNAPSACKS = 3\n",
    "NUM_ITEMS = 20\n",
    "NUM_DIMENSIONS = 2\n",
    "VALUES = rng.integers(0, 100, size=NUM_ITEMS)\n",
    "WEIGHTS = rng.integers(0, 100, size=(NUM_ITEMS, NUM_DIMENSIONS))\n",
    "CONSTRAINTS = rng.integers(\n",
    "    0, 100 * NUM_ITEMS // NUM_KNAPSACKS, size=(NUM_KNAPSACKS, NUM_DIMENSIONS)\n",
    ")\n",
    "# inital solution with empty knapsacks\n",
    "solution = np.array(\n",
    "    [[False for _ in range(NUM_ITEMS)] for _ in range(NUM_KNAPSACKS)] , dtype=np.bool\n",
    ")\n",
    "\n",
    "best_solution, best_value, items_left_num = hill_climbing(solution, max_iter=10000)\n",
    "print(100 * \"-\")\n",
    "print(\"Best value found for problem 1:\", best_value)\n",
    "if items_left_num != 0:\n",
    "    print(\"But there are still\", items_left_num, \"items left unassigned.\")"
   ]
  },
  {
   "cell_type": "code",
   "execution_count": 9,
   "id": "8831f405",
   "metadata": {},
   "outputs": [],
   "source": [
    "def sa_hill_climbing(solution: np.ndarray, max_iter=1000, max_messages=5,\n",
    "                    print_every=100, initial_temp=1.0, cooling_rate=0.99):\n",
    "    best_solution = solution.copy()\n",
    "    best_value = value(best_solution)\n",
    "    temp = initial_temp\n",
    "    messages = deque(maxlen=max_messages)\n",
    "\n",
    "    for iteration in tqdm(range(max_iter), desc=\"Simulated Annealing Hill Climbing\"):\n",
    "        new_solution = sa_tweak(best_solution, strength=0.8)\n",
    "        items_left = len(get_items_left(new_solution))\n",
    "\n",
    "        if valid(new_solution):\n",
    "            new_value = value(new_solution)\n",
    "            if new_value > best_value:\n",
    "                best_value = new_value\n",
    "                best_solution = new_solution\n",
    "                messages.append(f\"Iter {iteration}: value = {best_value}, item left = {items_left}\")\n",
    "            elif new_value == best_value: # moving is better than staying ! \n",
    "                best_solution = new_solution\n",
    "            else: # SA \n",
    "                # accept with a probability of exp((new_value - best_value) / temp)\n",
    "                prob = np.exp((new_value - best_value) / temp)\n",
    "                if np.random.rand() < prob:\n",
    "                    best_solution = new_solution\n",
    "\n",
    "        temp *= cooling_rate\n",
    "\n",
    "        if iteration % print_every == 0 and messages:\n",
    "            tqdm.write(\"\\n\".join(messages))\n",
    "            messages.clear()\n",
    "\n",
    "        if items_left == 0:\n",
    "            tqdm.write(\"All items assigned!\")\n",
    "            break\n",
    "\n",
    "    return best_solution, best_value, items_left"
   ]
  },
  {
   "cell_type": "markdown",
   "id": "9b66789b",
   "metadata": {},
   "source": [
    "# Problem 2 Configuration"
   ]
  },
  {
   "cell_type": "code",
   "execution_count": 15,
   "id": "2fc6f7bc",
   "metadata": {},
   "outputs": [
    {
     "name": "stderr",
     "output_type": "stream",
     "text": [
      "Simulated Annealing Hill Climbing:   2%|▏         | 1761/100000 [00:00<00:11, 8882.11it/s]"
     ]
    },
    {
     "name": "stdout",
     "output_type": "stream",
     "text": [
      "Iter 49: value = 23825, item left = 53\n",
      "Iter 59: value = 23917, item left = 52\n",
      "Iter 60: value = 24362, item left = 51\n",
      "Iter 63: value = 24674, item left = 50\n",
      "Iter 70: value = 26274, item left = 48\n",
      "Iter 115: value = 27035, item left = 47\n",
      "Iter 137: value = 27936, item left = 45\n",
      "Iter 144: value = 28162, item left = 44\n",
      "Iter 152: value = 28487, item left = 43\n",
      "Iter 159: value = 28530, item left = 42\n",
      "Iter 207: value = 29216, item left = 41\n",
      "Iter 260: value = 30156, item left = 40\n",
      "Iter 475: value = 31078, item left = 39\n",
      "Iter 568: value = 31755, item left = 38\n",
      "Iter 1209: value = 32391, item left = 37\n",
      "Iter 1221: value = 32519, item left = 36\n",
      "Iter 1368: value = 32746, item left = 35\n"
     ]
    },
    {
     "name": "stderr",
     "output_type": "stream",
     "text": [
      "Simulated Annealing Hill Climbing:   5%|▍         | 4730/100000 [00:00<00:09, 9738.04it/s]"
     ]
    },
    {
     "name": "stdout",
     "output_type": "stream",
     "text": [
      "Iter 3493: value = 32822, item left = 34\n"
     ]
    },
    {
     "name": "stderr",
     "output_type": "stream",
     "text": [
      "Simulated Annealing Hill Climbing: 100%|██████████| 100000/100000 [00:09<00:00, 10945.00it/s]"
     ]
    },
    {
     "name": "stdout",
     "output_type": "stream",
     "text": [
      "----------------------------------------------------------------------------------------------------\n",
      "Best value found for problem 2: 32822\n",
      "But there are still 26 items left unassigned.\n"
     ]
    },
    {
     "name": "stderr",
     "output_type": "stream",
     "text": [
      "\n"
     ]
    }
   ],
   "source": [
    "# Problem 2:\n",
    "rng = np.random.default_rng(seed=42)\n",
    "NUM_KNAPSACKS = 10\n",
    "NUM_ITEMS = 100\n",
    "NUM_DIMENSIONS = 10\n",
    "VALUES = rng.integers(0, 1000, size=NUM_ITEMS)\n",
    "WEIGHTS = rng.integers(0, 1000, size=(NUM_ITEMS, NUM_DIMENSIONS))\n",
    "CONSTRAINTS = rng.integers(\n",
    "    1000 * 2, 1000 * NUM_ITEMS // NUM_KNAPSACKS, size=(NUM_KNAPSACKS, NUM_DIMENSIONS)\n",
    ")\n",
    "# inital solution with empty knapsacks\n",
    "solution = np.array(\n",
    "    [[False for _ in range(NUM_ITEMS)] for _ in range(NUM_KNAPSACKS)] , dtype=np.bool\n",
    ")\n",
    "\n",
    "best_solution, best_value, items_left_num = sa_hill_climbing(solution, max_iter=100000,\n",
    "                                                             initial_temp=10.0, cooling_rate=0.8)\n",
    "print(100 * \"-\")\n",
    "print(\"Best value found for problem 2:\", best_value)\n",
    "if items_left_num != 0:\n",
    "    print(\"But there are still\", items_left_num, \"items left unassigned.\")"
   ]
  },
  {
   "cell_type": "markdown",
   "id": "3a3b2a1f",
   "metadata": {},
   "source": [
    "# Problem 3 "
   ]
  },
  {
   "cell_type": "code",
   "execution_count": 16,
   "id": "4c7c2e09",
   "metadata": {},
   "outputs": [
    {
     "name": "stderr",
     "output_type": "stream",
     "text": [
      "Simulated Annealing Hill Climbing:   0%|          | 1/1000 [00:00<03:33,  4.68it/s]"
     ]
    },
    {
     "name": "stdout",
     "output_type": "stream",
     "text": [
      "Iter 0: value = 1217, item left = 4997\n"
     ]
    },
    {
     "name": "stderr",
     "output_type": "stream",
     "text": [
      "Simulated Annealing Hill Climbing:  10%|█         | 101/1000 [00:22<02:58,  5.05it/s]"
     ]
    },
    {
     "name": "stdout",
     "output_type": "stream",
     "text": [
      "Iter 96: value = 243135, item left = 4518\n",
      "Iter 97: value = 246935, item left = 4511\n",
      "Iter 98: value = 247423, item left = 4510\n",
      "Iter 99: value = 248634, item left = 4506\n",
      "Iter 100: value = 252084, item left = 4499\n"
     ]
    },
    {
     "name": "stderr",
     "output_type": "stream",
     "text": [
      "Simulated Annealing Hill Climbing:  20%|██        | 201/1000 [00:43<02:40,  4.98it/s]"
     ]
    },
    {
     "name": "stdout",
     "output_type": "stream",
     "text": [
      "Iter 196: value = 467275, item left = 4060\n",
      "Iter 197: value = 467394, item left = 4058\n",
      "Iter 198: value = 469505, item left = 4054\n",
      "Iter 199: value = 473092, item left = 4048\n",
      "Iter 200: value = 473951, item left = 4047\n"
     ]
    },
    {
     "name": "stderr",
     "output_type": "stream",
     "text": [
      "Simulated Annealing Hill Climbing:  30%|███       | 301/1000 [01:04<02:23,  4.88it/s]"
     ]
    },
    {
     "name": "stdout",
     "output_type": "stream",
     "text": [
      "Iter 294: value = 648556, item left = 3700\n",
      "Iter 297: value = 653914, item left = 3690\n",
      "Iter 298: value = 654937, item left = 3688\n",
      "Iter 299: value = 656426, item left = 3686\n",
      "Iter 300: value = 659662, item left = 3678\n"
     ]
    },
    {
     "name": "stderr",
     "output_type": "stream",
     "text": [
      "Simulated Annealing Hill Climbing:  40%|████      | 401/1000 [01:26<02:00,  4.99it/s]"
     ]
    },
    {
     "name": "stdout",
     "output_type": "stream",
     "text": [
      "Iter 395: value = 779122, item left = 3438\n",
      "Iter 396: value = 782312, item left = 3431\n",
      "Iter 398: value = 784231, item left = 3428\n",
      "Iter 399: value = 784822, item left = 3426\n",
      "Iter 400: value = 784979, item left = 3425\n"
     ]
    },
    {
     "name": "stderr",
     "output_type": "stream",
     "text": [
      "Simulated Annealing Hill Climbing:  50%|█████     | 501/1000 [01:48<01:39,  4.99it/s]"
     ]
    },
    {
     "name": "stdout",
     "output_type": "stream",
     "text": [
      "Iter 490: value = 837055, item left = 3323\n",
      "Iter 493: value = 838534, item left = 3321\n",
      "Iter 496: value = 839465, item left = 3320\n",
      "Iter 498: value = 839933, item left = 3319\n",
      "Iter 500: value = 840641, item left = 3318\n"
     ]
    },
    {
     "name": "stderr",
     "output_type": "stream",
     "text": [
      "Simulated Annealing Hill Climbing:  60%|██████    | 601/1000 [02:13<01:26,  4.60it/s]"
     ]
    },
    {
     "name": "stdout",
     "output_type": "stream",
     "text": [
      "Iter 584: value = 874044, item left = 3254\n",
      "Iter 588: value = 874320, item left = 3252\n",
      "Iter 590: value = 875055, item left = 3251\n",
      "Iter 591: value = 877288, item left = 3246\n",
      "Iter 599: value = 880124, item left = 3240\n"
     ]
    },
    {
     "name": "stderr",
     "output_type": "stream",
     "text": [
      "Simulated Annealing Hill Climbing:  70%|███████   | 701/1000 [02:33<00:59,  5.06it/s]"
     ]
    },
    {
     "name": "stdout",
     "output_type": "stream",
     "text": [
      "Iter 668: value = 896535, item left = 3203\n",
      "Iter 680: value = 896671, item left = 3202\n",
      "Iter 683: value = 897932, item left = 3200\n",
      "Iter 684: value = 898172, item left = 3199\n",
      "Iter 692: value = 900531, item left = 3194\n"
     ]
    },
    {
     "name": "stderr",
     "output_type": "stream",
     "text": [
      "Simulated Annealing Hill Climbing:  80%|████████  | 802/1000 [02:55<00:39,  5.05it/s]"
     ]
    },
    {
     "name": "stdout",
     "output_type": "stream",
     "text": [
      "Iter 753: value = 909272, item left = 3178\n",
      "Iter 755: value = 909974, item left = 3177\n",
      "Iter 760: value = 911588, item left = 3175\n",
      "Iter 780: value = 912647, item left = 3173\n",
      "Iter 794: value = 913375, item left = 3172\n"
     ]
    },
    {
     "name": "stderr",
     "output_type": "stream",
     "text": [
      "Simulated Annealing Hill Climbing:  90%|█████████ | 902/1000 [03:17<00:20,  4.72it/s]"
     ]
    },
    {
     "name": "stdout",
     "output_type": "stream",
     "text": [
      "Iter 876: value = 927872, item left = 3146\n",
      "Iter 889: value = 928857, item left = 3145\n",
      "Iter 896: value = 929970, item left = 3142\n",
      "Iter 898: value = 930614, item left = 3141\n",
      "Iter 899: value = 930690, item left = 3140\n"
     ]
    },
    {
     "name": "stderr",
     "output_type": "stream",
     "text": [
      "Simulated Annealing Hill Climbing: 100%|██████████| 1000/1000 [03:36<00:00,  4.63it/s]"
     ]
    },
    {
     "name": "stdout",
     "output_type": "stream",
     "text": [
      "----------------------------------------------------------------------------------------------------\n",
      "Best value found for problem 3: 937058\n",
      "But there are still 3121 items left unassigned.\n"
     ]
    },
    {
     "name": "stderr",
     "output_type": "stream",
     "text": [
      "\n"
     ]
    }
   ],
   "source": [
    "# Problem 3:\n",
    "rng = np.random.default_rng(seed=42)\n",
    "NUM_KNAPSACKS = 100\n",
    "NUM_ITEMS = 5000\n",
    "NUM_DIMENSIONS = 100\n",
    "VALUES = rng.integers(0, 1000, size=NUM_ITEMS)\n",
    "WEIGHTS = rng.integers(0, 1000, size=(NUM_ITEMS, NUM_DIMENSIONS))\n",
    "CONSTRAINTS = rng.integers(\n",
    "    1000 * 10, 1000 * 2 * NUM_ITEMS // NUM_KNAPSACKS, size=(NUM_KNAPSACKS, NUM_DIMENSIONS)\n",
    ")\n",
    "# inital solution with empty knapsacks\n",
    "solution = np.array(\n",
    "    [[False for _ in range(NUM_ITEMS)] for _ in range(NUM_KNAPSACKS)] , dtype=np.bool\n",
    ")\n",
    "\n",
    "best_solution, best_value, items_left_num = sa_hill_climbing(solution, max_iter=1000,\n",
    "                                                             initial_temp=10.0, cooling_rate=0.8)\n",
    "print(100 * \"-\")\n",
    "print(\"Best value found for problem 3:\", best_value)\n",
    "if items_left_num != 0:\n",
    "    print(\"But there are still\", items_left_num, \"items left unassigned.\")"
   ]
  },
  {
   "cell_type": "code",
   "execution_count": null,
   "id": "53bdbe70",
   "metadata": {},
   "outputs": [],
   "source": []
  }
 ],
 "metadata": {
  "kernelspec": {
   "display_name": "venv",
   "language": "python",
   "name": "python3"
  },
  "language_info": {
   "codemirror_mode": {
    "name": "ipython",
    "version": 3
   },
   "file_extension": ".py",
   "mimetype": "text/x-python",
   "name": "python",
   "nbconvert_exporter": "python",
   "pygments_lexer": "ipython3",
   "version": "3.12.3"
  }
 },
 "nbformat": 4,
 "nbformat_minor": 5
}
